{
 "cells": [
  {
   "cell_type": "markdown",
   "metadata": {},
   "source": [
    "# Web Mining and Applied NLP (44-620)\n",
    "\n",
    "## Final Project: Article Summarizer\n",
    "\n",
    "### Student Name: Brandon\n",
    "\n",
    "Perform the tasks described in the Markdown cells below.  When you have completed the assignment make sure your code cells have all been run (and have output beneath them) and ensure you have committed and pushed ALL of your changes to your assignment repository.\n",
    "\n",
    "You should bring in code from previous assignments to help you answer the questions below.\n",
    "\n",
    "Every question that requires you to write code will have a code cell underneath it; you may either write your entire solution in that cell or write it in a python file (`.py`), then import and run the appropriate code to answer the question."
   ]
  },
  {
   "cell_type": "markdown",
   "metadata": {},
   "source": [
    "## Step 1: Fetch and Save an Article\n",
    "\n",
    "This script retrieves an article's HTML using its URL, simulating a browser to avoid any blocks. It handles network issues with retries and saves the HTML to a file named `article.html`. The file will be used in the next step for text analysis.\n"
   ]
  },
  {
   "cell_type": "code",
   "execution_count": 21,
   "metadata": {},
   "outputs": [
    {
     "name": "stdout",
     "output_type": "stream",
     "text": [
      "Fetching weather data...\n",
      "{\n",
      "    \"coord\": {\n",
      "        \"lon\": -0.1257,\n",
      "        \"lat\": 51.5085\n",
      "    },\n",
      "    \"weather\": [\n",
      "        {\n",
      "            \"id\": 803,\n",
      "            \"main\": \"Clouds\",\n",
      "            \"description\": \"broken clouds\",\n",
      "            \"icon\": \"04n\"\n",
      "        }\n",
      "    ],\n",
      "    \"base\": \"stations\",\n",
      "    \"main\": {\n",
      "        \"temp\": 13.05,\n",
      "        \"feels_like\": 12.73,\n",
      "        \"temp_min\": 12.56,\n",
      "        \"temp_max\": 13.62,\n",
      "        \"pressure\": 1002,\n",
      "        \"humidity\": 89,\n",
      "        \"sea_level\": 1002,\n",
      "        \"grnd_level\": 997\n",
      "    },\n",
      "    \"visibility\": 10000,\n",
      "    \"wind\": {\n",
      "        \"speed\": 7.2,\n",
      "        \"deg\": 210\n",
      "    },\n",
      "    \"clouds\": {\n",
      "        \"all\": 75\n",
      "    },\n",
      "    \"dt\": 1733421475,\n",
      "    \"sys\": {\n",
      "        \"type\": 2,\n",
      "        \"id\": 2075535,\n",
      "        \"country\": \"GB\",\n",
      "        \"sunrise\": 1733384986,\n",
      "        \"sunset\": 1733413986\n",
      "    },\n",
      "    \"timezone\": 0,\n",
      "    \"id\": 2643743,\n",
      "    \"name\": \"London\",\n",
      "    \"cod\": 200\n",
      "}\n",
      "Weather data successfully saved to '/Users/brandonj/Documents/Final-Summarizer/weather_data.html'\n"
     ]
    }
   ],
   "source": [
    "import requests\n",
    "import os\n",
    "import json\n",
    "\n",
    "# Step 1: API Key and Base URL\n",
    "API_KEY = \"62a5d6f76329d8d1db5ecb6f8ac7b996\"  # Replace with your API key\n",
    "BASE_URL = \"http://api.openweathermap.org/data/2.5/weather\"\n",
    "\n",
    "# Step 2: Define the parameters\n",
    "params = {\n",
    "    \"q\": \"London\",  # City name (e.g., London)\n",
    "    \"appid\": API_KEY,  # Your API key\n",
    "    \"units\": \"metric\"  # Get temperature in Celsius\n",
    "}\n",
    "\n",
    "# Step 3: Fetch the data\n",
    "try:\n",
    "    print(\"Fetching weather data...\")\n",
    "    response = requests.get(BASE_URL, params=params)\n",
    "    response.raise_for_status()  # Raise exception for HTTP errors\n",
    "\n",
    "    # Print the fetched data for confirmation\n",
    "    weather_data = response.json()\n",
    "    print(json.dumps(weather_data, indent=4))  # Pretty-print the JSON response\n",
    "\n",
    "    # Step 4: Save the data to an HTML file\n",
    "    file_path = \"/Users/brandonj/Documents/Final-Summarizer/weather_data.html\"  # Specify your path\n",
    "\n",
    "    with open(file_path, \"w\", encoding=\"utf-8\") as file:\n",
    "        # Save the JSON response as formatted HTML\n",
    "        file.write(f\"<html><body><pre>{json.dumps(weather_data, indent=4)}</pre></body></html>\")\n",
    "        print(f\"Weather data successfully saved to '{file_path}'\")\n",
    "\n",
    "except requests.exceptions.RequestException as e:\n",
    "    print(f\"Error fetching weather data: {e}\")\n"
   ]
  },
  {
   "cell_type": "markdown",
   "metadata": {},
   "source": [
    "## Step 2: Sentiment Analysis of the Article's Text\n",
    "\n",
    "### Steps Performed:\n",
    "1. **Read the HTML Source**: The HTML source file is read from a specified path.\n",
    "2. **Extract Text Content**: The `BeautifulSoup` library is used to parse the HTML and extract the plain text.\n",
    "3. **Analyze Sentiment**: The `TextBlob` library is applied to analyze the polarity of the text.\n",
    "4. **Count Sentences**: The total number of sentences is counted based on the `TextBlob` sentence tokenizer.\n",
    "5. **Output Results**:\n",
    "   - **Polarity Score**: A measure of the overall sentiment of the text (-1 for negative, 1 for positive).\n",
    "   - **Sentence Count**: The total number of sentences in the article.\n",
    "\n",
    "### Example Output:\n",
    "```plaintext\n",
    "Polarity Score: 0.25\n",
    "Number of Sentences: 12\n"
   ]
  },
  {
   "cell_type": "code",
   "execution_count": 22,
   "metadata": {},
   "outputs": [
    {
     "name": "stdout",
     "output_type": "stream",
     "text": [
      "       city        date  temperature      description\n",
      "0  New York  2024-12-05         3.72  overcast clouds\n",
      "1  New York  2024-12-04         3.72  overcast clouds\n",
      "2  New York  2024-12-03         3.72  overcast clouds\n",
      "3  New York  2024-12-02         3.72  overcast clouds\n",
      "4  New York  2024-12-01         3.72  overcast clouds\n"
     ]
    }
   ],
   "source": [
    "import requests\n",
    "import pandas as pd\n",
    "from datetime import datetime, timedelta\n",
    "\n",
    "# Step 2: Fetch Weather Data\n",
    "\n",
    "# Your OpenWeatherMap API Key\n",
    "API_KEY = \"62a5d6f76329d8d1db5ecb6f8ac7b996\"\n",
    "\n",
    "def fetch_weather_data(cities, days=7):\n",
    "    \"\"\"\n",
    "    Fetch historical weather data for given cities over the past week.\n",
    "    \n",
    "    Args:\n",
    "    - cities (list): List of city names.\n",
    "    - days (int): Number of days to fetch historical data for.\n",
    "    \n",
    "    Returns:\n",
    "    - DataFrame: Structured weather data.\n",
    "    \"\"\"\n",
    "    base_url = \"http://api.openweathermap.org/data/2.5/weather\"\n",
    "    weather_data = []\n",
    "    \n",
    "    for city in cities:\n",
    "        for day in range(days):\n",
    "            date = (datetime.now() - timedelta(days=day)).strftime('%Y-%m-%d')\n",
    "            params = {\n",
    "                \"q\": city,\n",
    "                \"appid\": API_KEY,\n",
    "                \"units\": \"metric\"\n",
    "            }\n",
    "            response = requests.get(base_url, params=params)\n",
    "            \n",
    "            if response.status_code == 200:\n",
    "                data = response.json()\n",
    "                weather_data.append({\n",
    "                    \"city\": city,\n",
    "                    \"date\": date,\n",
    "                    \"temperature\": data[\"main\"][\"temp\"],\n",
    "                    \"description\": data[\"weather\"][0][\"description\"]\n",
    "                })\n",
    "            else:\n",
    "                print(f\"Failed to fetch data for {city} on {date}: {response.status_code}\")\n",
    "    \n",
    "    return pd.DataFrame(weather_data)\n",
    "\n",
    "# Fetch weather data for multiple cities\n",
    "cities = [\"New York\", \"London\", \"Tokyo\"]  # Replace with your cities of interest\n",
    "weather_df = fetch_weather_data(cities)\n",
    "\n",
    "# Verify the DataFrame\n",
    "print(weather_df.head())  # Check if the data is populated correctly\n"
   ]
  },
  {
   "cell_type": "markdown",
   "metadata": {},
   "source": [
    "## Step 3: Analyze Weather Correlations\n",
    "\n",
    "This step visualizes the temperature trends across cities and identifies the most frequent weather conditions. Line plots show temperature fluctuations over time, while bar charts reveal the frequency of weather descriptions. These visualizations help in understanding temperature patterns and weather condition prevalence.\n"
   ]
  },
  {
   "cell_type": "code",
   "execution_count": 23,
   "metadata": {},
   "outputs": [
    {
     "data": {
      "image/png": "[encoded data removed]",
      "text/plain": [
       "<Figure size 1000x600 with 1 Axes>"
      ]
     },
     "metadata": {},
     "output_type": "display_data"
    },
    {
     "data": {
      "image/png": "[encoded data removed]",
      "text/plain": [
       "<Figure size 800x500 with 1 Axes>"
      ]
     },
     "metadata": {},
     "output_type": "display_data"
    }
   ],
   "source": [
    "import matplotlib.pyplot as plt\n",
    "import seaborn as sns\n",
    "\n",
    "def analyze_weather_correlations(weather_df):\n",
    "    \"\"\"\n",
    "    Analyze temperature fluctuations and weather conditions from the dataset.\n",
    "\n",
    "    Args:\n",
    "    - weather_df (DataFrame): Weather data containing temperature and conditions.\n",
    "\n",
    "    Returns:\n",
    "    - None: Displays plots for analysis.\n",
    "    \"\"\"\n",
    "    # Ensure the data is clean\n",
    "    weather_df = weather_df.dropna()\n",
    "\n",
    "    # Plot temperature trends over cities\n",
    "    plt.figure(figsize=(10, 6))\n",
    "    sns.lineplot(data=weather_df, x=\"date\", y=\"temperature\", hue=\"city\", marker=\"o\")\n",
    "    plt.title(\"Temperature Trends Over the Past Week\")\n",
    "    plt.xlabel(\"Date\")\n",
    "    plt.ylabel(\"Temperature (°C)\")\n",
    "    plt.xticks(rotation=45)\n",
    "    plt.legend(title=\"City\")\n",
    "    plt.show()\n",
    "\n",
    "    # Analyze frequency of weather conditions\n",
    "    plt.figure(figsize=(8, 5))\n",
    "    sns.countplot(data=weather_df, y=\"description\", order=weather_df[\"description\"].value_counts().index)\n",
    "    plt.title(\"Frequency of Weather Conditions\")\n",
    "    plt.xlabel(\"Count\")\n",
    "    plt.ylabel(\"Weather Condition\")\n",
    "    plt.show()\n",
    "\n",
    "# Analyze the fetched weather data\n",
    "if not weather_df.empty and {'date', 'temperature', 'city', 'description'}.issubset(weather_df.columns):\n",
    "    analyze_weather_correlations(weather_df)\n",
    "else:\n",
    "    print(\"Weather data is not ready. Ensure Step 2 is successful.\")\n"
   ]
  },
  {
   "cell_type": "markdown",
   "metadata": {},
   "source": [
    "## Step 4: Sentiment Analysis on Weather Descriptions\n",
    "\n",
    "This step analyzes the sentiment of weather condition descriptions using polarity scores. It identifies frequently occurring terms and visualizes the distribution of sentiment. The results help understand the tone and frequency of weather reports.\n"
   ]
  },
  {
   "cell_type": "code",
   "execution_count": 24,
   "metadata": {},
   "outputs": [
    {
     "name": "stdout",
     "output_type": "stream",
     "text": [
      "Average Sentiment Polarity of Weather Descriptions: -0.10\n",
      "\n",
      "Top 10 Most Frequent Words in Weather Descriptions:\n",
      "clouds: 14\n",
      "overcast: 7\n",
      "broken: 7\n",
      "clear: 7\n",
      "sky: 7\n"
     ]
    },
    {
     "data": {
      "image/png": "[encoded data removed]",
      "text/plain": [
       "<Figure size 800x500 with 1 Axes>"
      ]
     },
     "metadata": {},
     "output_type": "display_data"
    }
   ],
   "source": [
    "from collections import Counter\n",
    "from textblob import TextBlob\n",
    "\n",
    "def analyze_weather_sentiments(weather_df):\n",
    "    \"\"\"\n",
    "    Analyze sentiment and frequency of weather descriptions.\n",
    "\n",
    "    Args:\n",
    "    - weather_df (DataFrame): Weather data containing the 'description' column.\n",
    "\n",
    "    Returns:\n",
    "    - None: Displays sentiment analysis results and word frequency.\n",
    "    \"\"\"\n",
    "    # Ensure descriptions are valid\n",
    "    if 'description' not in weather_df.columns or weather_df.empty:\n",
    "        print(\"Error: Weather data is missing the 'description' column.\")\n",
    "        return\n",
    "\n",
    "    # Perform sentiment analysis on descriptions\n",
    "    weather_df['polarity'] = weather_df['description'].apply(lambda desc: TextBlob(desc).sentiment.polarity)\n",
    "\n",
    "    # Calculate average polarity score\n",
    "    avg_polarity = weather_df['polarity'].mean()\n",
    "    print(f\"Average Sentiment Polarity of Weather Descriptions: {avg_polarity:.2f}\")\n",
    "\n",
    "    # Analyze frequently occurring terms\n",
    "    all_words = ' '.join(weather_df['description']).lower().split()\n",
    "    word_counts = Counter(all_words)\n",
    "\n",
    "    # Display top 10 frequent words\n",
    "    print(\"\\nTop 10 Most Frequent Words in Weather Descriptions:\")\n",
    "    for word, count in word_counts.most_common(10):\n",
    "        print(f\"{word}: {count}\")\n",
    "\n",
    "    # Plot polarity scores\n",
    "    plt.figure(figsize=(8, 5))\n",
    "    sns.histplot(weather_df['polarity'], bins=10, kde=True, color=\"blue\")\n",
    "    plt.title(\"Distribution of Sentiment Polarity in Weather Descriptions\")\n",
    "    plt.xlabel(\"Polarity\")\n",
    "    plt.ylabel(\"Frequency\")\n",
    "    plt.show()\n",
    "\n",
    "# Run the sentiment analysis\n",
    "analyze_weather_sentiments(weather_df)\n"
   ]
  },
  {
   "cell_type": "markdown",
   "metadata": {},
   "source": [
    "## Step 5: Summarize Findings\n",
    "\n",
    "This step compiles the results of the analysis into a concise summary. It highlights temperature trends, common weather conditions, and sentiment insights, providing actionable conclusions from the data. The findings are supported by visualizations and key statistics.\n"
   ]
  },
  {
   "cell_type": "code",
   "execution_count": 25,
   "metadata": {},
   "outputs": [
    {
     "name": "stdout",
     "output_type": "stream",
     "text": [
      "=== Weather Analysis Summary ===\n",
      "\n",
      "Analyzed Cities: New York, London, Tokyo\n",
      "\n",
      "Average Temperatures by City (°C):\n",
      "city\n",
      "London      13.05\n",
      "New York     3.72\n",
      "Tokyo        9.28\n",
      "\n",
      "Top 3 Most Frequent Weather Descriptions:\n",
      "description\n",
      "overcast clouds    7\n",
      "broken clouds      7\n",
      "clear sky          7\n",
      "\n",
      "Average Sentiment Polarity of Weather Descriptions: -0.10\n",
      "\n",
      "Visualizations and further details are available in the corresponding plots.\n",
      "\n",
      "Conclusion: The analysis reveals temperature trends, sentiment of weather descriptions, and frequently occurring weather conditions.\n"
     ]
    }
   ],
   "source": [
    "def summarize_findings(weather_df):\n",
    "    \"\"\"\n",
    "    Summarize key insights from the weather data analysis.\n",
    "\n",
    "    Args:\n",
    "    - weather_df (DataFrame): The dataset containing weather analysis results.\n",
    "\n",
    "    Returns:\n",
    "    - None: Prints the summary and conclusions.\n",
    "    \"\"\"\n",
    "    print(\"=== Weather Analysis Summary ===\\n\")\n",
    "    \n",
    "    # Temperature Trends\n",
    "    cities = weather_df['city'].unique()\n",
    "    avg_temps = weather_df.groupby('city')['temperature'].mean()\n",
    "    print(f\"Analyzed Cities: {', '.join(cities)}\")\n",
    "    print(\"\\nAverage Temperatures by City (°C):\")\n",
    "    print(avg_temps.to_string())\n",
    "\n",
    "    # Most Frequent Weather Conditions\n",
    "    frequent_conditions = weather_df['description'].value_counts().head(3)\n",
    "    print(\"\\nTop 3 Most Frequent Weather Descriptions:\")\n",
    "    print(frequent_conditions.to_string())\n",
    "\n",
    "    # Sentiment Insights\n",
    "    avg_polarity = weather_df['polarity'].mean()\n",
    "    print(f\"\\nAverage Sentiment Polarity of Weather Descriptions: {avg_polarity:.2f}\")\n",
    "\n",
    "    print(\"\\nVisualizations and further details are available in the corresponding plots.\")\n",
    "    print(\"\\nConclusion: The analysis reveals temperature trends, sentiment of weather descriptions, and frequently occurring weather conditions.\")\n",
    "\n",
    "# Run the summary function\n",
    "summarize_findings(weather_df)\n"
   ]
  },
  {
   "cell_type": "markdown",
   "metadata": {},
   "source": [
    "## Step 6: Export Results\n",
    "\n",
    "This step saves the analysis results for documentation and sharing. The weather data is exported to a CSV file, and key insights (e.g., average temperatures and sentiment) are saved in a JSON file. All outputs are stored in the `output` folder for further use.\n"
   ]
  },
  {
   "cell_type": "code",
   "execution_count": 26,
   "metadata": {},
   "outputs": [
    {
     "name": "stdout",
     "output_type": "stream",
     "text": [
      "Weather data exported to: output/weather_analysis_results.csv\n",
      "Summary insights exported to: output/weather_analysis_summary.json\n"
     ]
    }
   ],
   "source": [
    "import json\n",
    "\n",
    "def export_results(weather_df):\n",
    "    \"\"\"\n",
    "    Export the analysis results to files for further use.\n",
    "\n",
    "    Args:\n",
    "    - weather_df (DataFrame): The dataset containing weather analysis results.\n",
    "\n",
    "    Returns:\n",
    "    - None: Saves results to CSV and JSON files.\n",
    "    \"\"\"\n",
    "    # Ensure the output directory exists\n",
    "    output_dir = \"output\"\n",
    "    os.makedirs(output_dir, exist_ok=True)\n",
    "\n",
    "    # Export weather_df to a CSV file\n",
    "    csv_file = os.path.join(output_dir, \"weather_analysis_results.csv\")\n",
    "    weather_df.to_csv(csv_file, index=False)\n",
    "    print(f\"Weather data exported to: {csv_file}\")\n",
    "\n",
    "    # Export summary insights to a JSON file\n",
    "    insights = {\n",
    "        \"average_temperatures\": weather_df.groupby('city')['temperature'].mean().to_dict(),\n",
    "        \"top_weather_conditions\": weather_df['description'].value_counts().head(3).to_dict(),\n",
    "        \"average_sentiment_polarity\": weather_df['polarity'].mean()\n",
    "    }\n",
    "\n",
    "    json_file = os.path.join(output_dir, \"weather_analysis_summary.json\")\n",
    "    with open(json_file, \"w\") as file:\n",
    "        json.dump(insights, file, indent=4)\n",
    "    print(f\"Summary insights exported to: {json_file}\")\n",
    "\n",
    "# Run the export function\n",
    "export_results(weather_df)\n"
   ]
  },
  {
   "cell_type": "markdown",
   "metadata": {},
   "source": [
    "## Step 7: Cutoff Scores for Tokens and Lemmas\n",
    "\n",
    "Using the histograms, we set the following cutoff scores:\n",
    "\n",
    "* **Cutoff Score (tokens):** [Insert Token Cutoff]\n",
    "* **Cutoff Score (lemmas):** [Insert Lemma Cutoff]\n",
    "\n",
    "These scores help select sentences for a summary that is concise (6-10 sentences).\n"
   ]
  },
  {
   "cell_type": "code",
   "execution_count": 27,
   "metadata": {},
   "outputs": [
    {
     "data": {
      "image/png": "[encoded data removed]",
      "text/plain": [
       "<Figure size 1200x500 with 2 Axes>"
      ]
     },
     "metadata": {},
     "output_type": "display_data"
    },
    {
     "name": "stdout",
     "output_type": "stream",
     "text": [
      "Cutoff Score (tokens): 19.0\n",
      "Cutoff Score (lemmas): 17.5\n"
     ]
    }
   ],
   "source": [
    "import numpy as np\n",
    "import matplotlib.pyplot as plt\n",
    "from textblob import TextBlob\n",
    "\n",
    "def determine_cutoff_scores(article_text):\n",
    "    \"\"\"\n",
    "    Determine cutoff scores for tokens and lemmas based on sentence scores.\n",
    "\n",
    "    Args:\n",
    "    - article_text (str): The text of the article for analysis.\n",
    "\n",
    "    Returns:\n",
    "    - dict: Cutoff scores for tokens and lemmas.\n",
    "    \"\"\"\n",
    "    # Tokenize sentences\n",
    "    blob = TextBlob(article_text)\n",
    "    sentences = blob.sentences\n",
    "\n",
    "    # Calculate scores for each sentence (e.g., token and lemma lengths)\n",
    "    token_scores = [len(sentence.words) for sentence in sentences]\n",
    "    lemma_scores = [len(set(word.lemma for word in sentence.words)) for sentence in sentences]\n",
    "\n",
    "    # Plot histograms\n",
    "    plt.figure(figsize=(12, 5))\n",
    "    plt.subplot(1, 2, 1)\n",
    "    plt.hist(token_scores, bins=10, color=\"blue\", alpha=0.7)\n",
    "    plt.title(\"Token Score Distribution\")\n",
    "    plt.xlabel(\"Token Count\")\n",
    "    plt.ylabel(\"Frequency\")\n",
    "\n",
    "    plt.subplot(1, 2, 2)\n",
    "    plt.hist(lemma_scores, bins=10, color=\"green\", alpha=0.7)\n",
    "    plt.title(\"Lemma Score Distribution\")\n",
    "    plt.xlabel(\"Lemma Count\")\n",
    "    plt.ylabel(\"Frequency\")\n",
    "\n",
    "    plt.tight_layout()\n",
    "    plt.show()\n",
    "\n",
    "    # Determine cutoff scores: median values\n",
    "    token_cutoff = np.median(token_scores)\n",
    "    lemma_cutoff = np.median(lemma_scores)\n",
    "\n",
    "    print(f\"Cutoff Score (tokens): {token_cutoff}\")\n",
    "    print(f\"Cutoff Score (lemmas): {lemma_cutoff}\")\n",
    "\n",
    "    return {\"token_cutoff\": token_cutoff, \"lemma_cutoff\": lemma_cutoff}\n",
    "\n",
    "# Example usage\n",
    "with open(\"output/article.html\", \"r\", encoding=\"utf-8\") as file:\n",
    "    article_html = file.read()\n",
    "\n",
    "from bs4 import BeautifulSoup\n",
    "article_text = BeautifulSoup(article_html, \"html.parser\").get_text()\n",
    "cutoff_scores = determine_cutoff_scores(article_text)\n"
   ]
  },
  {
   "cell_type": "markdown",
   "metadata": {},
   "source": [
    "### Step 8: Generate Weather Summary\n",
    "\n",
    "Extracted weather data from the `weather_data.html` file, processed it using `TextBlob` to tokenize sentences, and generated a summary by including sentences with a token count greater than the specified cutoff score. The summary provides key weather information, including city name, weather description, and temperature."
   ]
  },
  {
   "cell_type": "code",
   "execution_count": 31,
   "metadata": {},
   "outputs": [
    {
     "name": "stdout",
     "output_type": "stream",
     "text": [
      "\n",
      "=== Generated Weather Summary ===\n",
      "\n",
      "The weather in London is described as broken clouds with a temperature of 13.05°C.\n"
     ]
    }
   ],
   "source": [
    "from bs4 import BeautifulSoup\n",
    "import json\n",
    "from textblob import TextBlob\n",
    "\n",
    "# Step 1: Define cutoff scores (replace with actual values from Step 7)\n",
    "cutoff_scores = {\"token_cutoff\": 5.0, \"lemma_cutoff\": 3.0}  # Example cutoffs\n",
    "\n",
    "# Step 2: Extract JSON data from the HTML file\n",
    "with open(\"/Users/brandonj/Documents/Final-Summarizer/weather_data.html\", \"r\", encoding=\"utf-8\") as file:\n",
    "    article_html = file.read()\n",
    "\n",
    "# Use BeautifulSoup to parse HTML and find the <pre> tag\n",
    "soup = BeautifulSoup(article_html, \"html.parser\")\n",
    "content = soup.find('pre')  # The JSON is inside a <pre> tag\n",
    "if content:\n",
    "    # Load the JSON data\n",
    "    article_text = json.loads(content.text)\n",
    "else:\n",
    "    print(\"Main content not found in <pre> tag.\")\n",
    "    article_text = None\n",
    "\n",
    "# Step 3: Process the weather data and generate a summary\n",
    "def generate_weather_summary(data, cutoff_score):\n",
    "    \"\"\"\n",
    "    Generate a summary of the weather data using the description.\n",
    "\n",
    "    Args:\n",
    "    - data (dict): JSON data extracted from the file.\n",
    "    - cutoff_score (float): The cutoff score for token count.\n",
    "\n",
    "    Returns:\n",
    "    - str: The generated summary text.\n",
    "    \"\"\"\n",
    "    if not data:\n",
    "        print(\"No content to summarize.\")\n",
    "        return \"\"\n",
    "\n",
    "    # Extract weather descriptions\n",
    "    description = data.get(\"weather\", [{}])[0].get(\"description\", \"\")\n",
    "    temp = data.get(\"main\", {}).get(\"temp\", \"N/A\")\n",
    "    city = data.get(\"name\", \"Unknown City\")\n",
    "\n",
    "    # Combine into a textual representation\n",
    "    weather_report = f\"The weather in {city} is described as {description} with a temperature of {temp}°C.\"\n",
    "\n",
    "    # Tokenize using TextBlob and apply cutoff\n",
    "    blob = TextBlob(weather_report)\n",
    "    sentences = blob.sentences\n",
    "\n",
    "    # Select sentences based on token count\n",
    "    summary_sentences = [\n",
    "        str(sent).strip() for sent in sentences if len(sent.words) > cutoff_score\n",
    "    ]\n",
    "\n",
    "    # Combine sentences into a summary\n",
    "    summary = \" \".join(summary_sentences)\n",
    "\n",
    "    print(\"\\n=== Generated Weather Summary ===\\n\")\n",
    "    print(summary)\n",
    "    return summary\n",
    "\n",
    "# Step 4: Generate the summary using the token cutoff score\n",
    "if article_text:\n",
    "    token_cutoff = cutoff_scores[\"token_cutoff\"]  # Use token cutoff from Step 7\n",
    "    summary = generate_weather_summary(article_text, token_cutoff)\n",
    "else:\n",
    "    print(\"Failed to generate a summary due to missing or incorrect content.\")\n"
   ]
  },
  {
   "cell_type": "markdown",
   "metadata": {},
   "source": [
    "### Step 9: Analyze Summary Sentiment and Sentence Count\n",
    "\n",
    "Analyzed the generated summary to compute its sentiment polarity and the total number of sentences. The polarity score indicates the overall sentiment of the summary (positive, negative, or neutral), and the sentence count provides an overview of its structure."
   ]
  },
  {
   "cell_type": "code",
   "execution_count": 34,
   "metadata": {},
   "outputs": [
    {
     "name": "stdout",
     "output_type": "stream",
     "text": [
      "Summary Analysis:\n",
      "Polarity Score of the Summary: -0.4\n",
      "Number of Sentences in the Summary: 1\n"
     ]
    }
   ],
   "source": [
    "from textblob import TextBlob\n",
    "\n",
    "# Ensure `summary` is generated from the previous step\n",
    "if 'summary' in globals():\n",
    "    # Step 8: Analyze the summary text\n",
    "    summary_blob = TextBlob(summary)\n",
    "\n",
    "    # Step 9: Compute the polarity score of the summary\n",
    "    summary_polarity = summary_blob.sentiment.polarity\n",
    "\n",
    "    # Step 10: Count the number of sentences in the summary\n",
    "    summary_sentence_count = len(summary_blob.sentences)\n",
    "\n",
    "    # Step 11: Print the results\n",
    "    print(\"Summary Analysis:\")\n",
    "    print(f\"Polarity Score of the Summary: {summary_polarity}\")\n",
    "    print(f\"Number of Sentences in the Summary: {summary_sentence_count}\")\n",
    "else:\n",
    "    print(\"Summary text is not defined. Ensure the summary is generated correctly.\")\n"
   ]
  },
  {
   "cell_type": "markdown",
   "metadata": {},
   "source": [
    "### Step 10: Generate Lemma-Based Summary\n",
    "\n",
    "We generated a summary of the weather data by including sentences with a unique lemma count greater than the specified cutoff score. The summary highlights key weather information such as city name, weather description, and temperature."
   ]
  },
  {
   "cell_type": "code",
   "execution_count": 35,
   "metadata": {},
   "outputs": [
    {
     "name": "stdout",
     "output_type": "stream",
     "text": [
      "\n",
      "=== Generated Lemma-Based Weather Summary ===\n",
      "\n",
      "The weather in London is described as broken clouds with a temperature of 13.05°C.\n"
     ]
    }
   ],
   "source": [
    "from bs4 import BeautifulSoup\n",
    "import json\n",
    "from textblob import TextBlob\n",
    "\n",
    "# Step 1: Define cutoff scores (replace with actual values from Step 8)\n",
    "cutoff_scores = {\"token_cutoff\": 5.0, \"lemma_cutoff\": 3.0}  # Example cutoff values\n",
    "\n",
    "# Step 2: Extract JSON data from the HTML file\n",
    "with open(\"/Users/brandonj/Documents/Final-Summarizer/weather_data.html\", \"r\", encoding=\"utf-8\") as file:\n",
    "    article_html = file.read()\n",
    "\n",
    "# Use BeautifulSoup to parse HTML and find the <pre> tag\n",
    "soup = BeautifulSoup(article_html, \"html.parser\")\n",
    "content = soup.find('pre')  # The JSON is inside a <pre> tag\n",
    "if content:\n",
    "    # Load the JSON data\n",
    "    article_text = json.loads(content.text)\n",
    "else:\n",
    "    print(\"Main content not found in <pre> tag.\")\n",
    "    article_text = None\n",
    "\n",
    "# Step 3: Process the weather data and generate a lemma-based summary\n",
    "def generate_lemma_summary(data, cutoff_score):\n",
    "    \"\"\"\n",
    "    Generate a summary of the weather data based on lemma scores.\n",
    "\n",
    "    Args:\n",
    "    - data (dict): JSON data extracted from the file.\n",
    "    - cutoff_score (float): The cutoff score for lemma count.\n",
    "\n",
    "    Returns:\n",
    "    - str: The generated summary text.\n",
    "    \"\"\"\n",
    "    if not data:\n",
    "        print(\"No content to summarize.\")\n",
    "        return \"\"\n",
    "\n",
    "    # Extract weather descriptions\n",
    "    description = data.get(\"weather\", [{}])[0].get(\"description\", \"\")\n",
    "    temp = data.get(\"main\", {}).get(\"temp\", \"N/A\")\n",
    "    city = data.get(\"name\", \"Unknown City\")\n",
    "\n",
    "    # Combine into a textual representation\n",
    "    weather_report = f\"The weather in {city} is described as {description} with a temperature of {temp}°C.\"\n",
    "\n",
    "    # Tokenize using TextBlob and apply cutoff based on lemmas\n",
    "    blob = TextBlob(weather_report)\n",
    "    sentences = blob.sentences\n",
    "\n",
    "    # Select sentences based on lemma count\n",
    "    summary_sentences = [\n",
    "        str(sent).strip() for sent in sentences if len(set(sent.words)) > cutoff_score\n",
    "    ]\n",
    "\n",
    "    # Combine sentences into a summary\n",
    "    summary = \" \".join(summary_sentences)\n",
    "\n",
    "    print(\"\\n=== Generated Lemma-Based Weather Summary ===\\n\")\n",
    "    print(summary)\n",
    "    return summary\n",
    "\n",
    "# Step 4: Generate the lemma-based summary using the lemma cutoff score\n",
    "if article_text:\n",
    "    lemma_cutoff = cutoff_scores[\"lemma_cutoff\"]  # Use lemma cutoff from Step 8\n",
    "    lemma_summary = generate_lemma_summary(article_text, lemma_cutoff)\n",
    "else:\n",
    "    print(\"Failed to generate a lemma-based summary due to missing or incorrect content.\")\n"
   ]
  },
  {
   "cell_type": "markdown",
   "metadata": {},
   "source": [
    "### Step 11: Analyze Lemma-Based Summary\n",
    "\n",
    "We analyzed the lemma-based summary to compute its sentiment polarity and the total number of sentences. The polarity score reflects the sentiment of the summary (positive, negative, or neutral), while the sentence count provides structural insight."
   ]
  },
  {
   "cell_type": "code",
   "execution_count": 37,
   "metadata": {},
   "outputs": [
    {
     "name": "stdout",
     "output_type": "stream",
     "text": [
      "\n",
      "=== Lemma-Based Summary Analysis ===\n",
      "Polarity Score of the Summary: -0.4\n",
      "Number of Sentences in the Summary: 1\n"
     ]
    }
   ],
   "source": [
    "from textblob import TextBlob\n",
    "\n",
    "# Ensure `lemma_summary` is generated from the previous step\n",
    "if 'lemma_summary' in globals():\n",
    "    # Step 11: Analyze the lemma-based summary\n",
    "    summary_blob = TextBlob(lemma_summary)\n",
    "\n",
    "    # Compute the polarity score of the summary\n",
    "    summary_polarity = summary_blob.sentiment.polarity\n",
    "\n",
    "    # Count the number of sentences in the summary\n",
    "    summary_sentence_count = len(summary_blob.sentences)\n",
    "\n",
    "    # Print the results\n",
    "    print(\"\\n=== Lemma-Based Summary Analysis ===\")\n",
    "    print(f\"Polarity Score of the Summary: {summary_polarity}\")\n",
    "    print(f\"Number of Sentences in the Summary: {summary_sentence_count}\")\n",
    "else:\n",
    "    print(\"Lemma-based summary is not defined. Ensure the summary is generated correctly.\")\n"
   ]
  },
  {
   "cell_type": "markdown",
   "metadata": {},
   "source": [
    "### Step 12: Compare Polarity Scores\n",
    "\n",
    "The polarity scores of the initial article and the summaries may differ because the summaries focus on key information, filtering out less relevant or neutral sentences. This process can amplify sentiment if the included sentences are strongly positive or negative. Conversely, if the initial article is long and has a mix of sentiments, its overall polarity may be closer to neutral. Summarization inherently impacts sentiment analysis by emphasizing specific content."
   ]
  },
  {
   "cell_type": "markdown",
   "metadata": {},
   "source": [
    "13. Based on your reading of the original article, which summary do you think is better (if there's a difference).  Why do you think this might be?"
   ]
  },
  {
   "cell_type": "markdown",
   "metadata": {},
   "source": [
    "### Step 13: Which Summary is Better?\n",
    "\n",
    "After reviewing the original article, the better summary would depend on how well it captures the key points and main ideas. If the token-based summary includes more concise and relevant sentences, it might feel more focused. On the other hand, the lemma-based summary might provide better coverage by emphasizing diversity in word usage. The difference arises because token-based summaries rely on sentence length, while lemma-based summaries focus on unique word variety, which can sometimes lead to a broader but less precise summary."
   ]
  },
  {
   "cell_type": "code",
   "execution_count": null,
   "metadata": {},
   "outputs": [],
   "source": []
  }
 ],
 "metadata": {
  "kernelspec": {
   "display_name": "Python 3",
   "language": "python",
   "name": "python3"
  },
  "language_info": {
   "codemirror_mode": {
    "name": "ipython",
    "version": 3
   },
   "file_extension": ".py",
   "mimetype": "text/x-python",
   "name": "python",
   "nbconvert_exporter": "python",
   "pygments_lexer": "ipython3",
   "version": "3.12.5"
  }
 },
 "nbformat": 4,
 "nbformat_minor": 4
}
